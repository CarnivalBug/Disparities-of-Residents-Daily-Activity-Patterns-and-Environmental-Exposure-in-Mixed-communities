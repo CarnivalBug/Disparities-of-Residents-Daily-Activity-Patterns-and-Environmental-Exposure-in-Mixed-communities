{
 "cells": [
  {
   "cell_type": "code",
   "execution_count": 421,
   "metadata": {},
   "outputs": [],
   "source": [
    "from pandas import DataFrame, read_csv\n",
    "import matplotlib.pyplot as plt\n",
    "import pandas as pd \n",
    "import math"
   ]
  },
  {
   "cell_type": "code",
   "execution_count": 422,
   "metadata": {},
   "outputs": [],
   "source": [
    "file = r'./xinlin_data.xls'\n",
    "df = pd.read_excel(file)"
   ]
  },
  {
   "cell_type": "code",
   "execution_count": 472,
   "metadata": {},
   "outputs": [],
   "source": [
    "m=[]"
   ]
  },
  {
   "cell_type": "code",
   "execution_count": 473,
   "metadata": {},
   "outputs": [],
   "source": [
    "prev = \"0000\"\n",
    "data = [0] * 1440\n",
    "for index, row in df.iterrows():\n",
    "    #print(row['IDsample']==prev)\n",
    "    #print row\n",
    "    if ( (row['ID_sample']!=prev) ):\n",
    "        #print row['IDsample']\n",
    "        #print(data)\n",
    "        m.append(data)\n",
    "        prev = row['ID_sample']\n",
    "        data = [0] * 1440\n",
    "    else:\n",
    "        start = int(row['AC_4_1']*60+row['AC_4_2'])\n",
    "        end = int(row['AC_4_3']*60+row['AC_4_4'])\n",
    "        #value = （活动大类-1）*6+（活动小类-1）\n",
    "        #出行 = 0\n",
    "        #print (\"new one\")\n",
    "        #print (row['ID_sample'])\n",
    "        #print (start)\n",
    "        #print (end)\n",
    "        #print (row['AC_9_1'])\n",
    "        #print (row['AC_9_2'])\n",
    "        #print (replacement)\n",
    "        if (float(row['AC_1_3'])>=1 or float(row['AC_1_3'])<=5):\n",
    "            if (math.isnan(float(row['AC_9_1']))):\n",
    "                replacement = 0\n",
    "            else:\n",
    "                replacement = (float(row['AC_9_1'])-1)*6+(float(row['AC_9_2']))\n",
    "        for i in range(start, end):\n",
    "            data[i] = int(round(replacement, 0))\n",
    "m.append(data)"
   ]
  },
  {
   "cell_type": "code",
   "execution_count": 474,
   "metadata": {
    "scrolled": true
   },
   "outputs": [
    {
     "data": {
      "text/plain": [
       "<matplotlib.image.AxesImage at 0x114d36710>"
      ]
     },
     "execution_count": 474,
     "metadata": {},
     "output_type": "execute_result"
    },
    {
     "data": {
      "image/png": "[encoded data removed]",
      "text/plain": [
       "<Figure size 432x288 with 1 Axes>"
      ]
     },
     "metadata": {
      "needs_background": "light"
     },
     "output_type": "display_data"
    }
   ],
   "source": [
    "%matplotlib inline\n",
    "plt.imshow(m, cmap=plt.get_cmap('gray'))"
   ]
  },
  {
   "cell_type": "code",
   "execution_count": 475,
   "metadata": {},
   "outputs": [
    {
     "data": {
      "text/plain": [
       "107"
      ]
     },
     "execution_count": 475,
     "metadata": {},
     "output_type": "execute_result"
    }
   ],
   "source": [
    "len(m)"
   ]
  },
  {
   "cell_type": "code",
   "execution_count": 476,
   "metadata": {},
   "outputs": [
    {
     "data": {
      "text/plain": [
       "1440"
      ]
     },
     "execution_count": 476,
     "metadata": {},
     "output_type": "execute_result"
    }
   ],
   "source": [
    "len(m[0])"
   ]
  },
  {
   "cell_type": "code",
   "execution_count": 477,
   "metadata": {},
   "outputs": [],
   "source": [
    "string_list = []\n",
    "for row in m:\n",
    "    x = \"\"\n",
    "    for ele in row:\n",
    "        if (ele==10):\n",
    "            x = x + \"a\"\n",
    "        if (ele==11):\n",
    "            x = x + \"b\"\n",
    "        if (ele==13):\n",
    "            x = x +\"c\"\n",
    "        if (ele==14):\n",
    "            x = x + \"d\"\n",
    "        if (ele==15):\n",
    "            x = x + \"e\"\n",
    "        if (ele==16):\n",
    "            x = x + \"f\"\n",
    "        if (ele==17):\n",
    "            x = x + \"g\"\n",
    "        if (ele==18):\n",
    "            x = x + \"h\"\n",
    "        if (ele==19):\n",
    "            x = x + \"i\"\n",
    "        if (ele==20):\n",
    "            x = x + \"j\"\n",
    "        if (ele==25):\n",
    "            x = x + \"k\"\n",
    "        if (ele==26):\n",
    "            x = x + \"m\"\n",
    "        if (ele==27):\n",
    "            x = x + \"n\"\n",
    "        if (ele==28):\n",
    "            x = x + \"o\"\n",
    "        if (ele==29):\n",
    "            x = x + \"p\"\n",
    "        if (ele==31):\n",
    "            x = x + \"r\"\n",
    "        if (ele==32):\n",
    "            x = x + \"s\"\n",
    "        if (ele==33):\n",
    "            x = x + \"t\"\n",
    "        if (ele<=10):\n",
    "            x = x + str(ele)\n",
    "    string_list.append(x)"
   ]
  },
  {
   "cell_type": "code",
   "execution_count": 478,
   "metadata": {},
   "outputs": [],
   "source": [
    "from Levenshtein import distance\n",
    "distance_matrix = []\n",
    "for i in range(0,107):\n",
    "    array = []\n",
    "    for j in range(0,107):\n",
    "        edit_dist = distance(string_list[i], string_list[j])\n",
    "        array.append(edit_dist)\n",
    "    distance_matrix.append(array)"
   ]
  },
  {
   "cell_type": "code",
   "execution_count": 447,
   "metadata": {},
   "outputs": [],
   "source": [
    "import numpy as np\n",
    "from math import pi\n",
    "from sklearn.cluster import DBSCAN\n",
    "for i in range(1,1440):\n",
    "    db = DBSCAN(eps=i, min_samples = 1, metric='precomputed')\n",
    "    db.fit(distance_matrix)\n",
    "    no_clusters = len(set(labels)) - (1 if -1 in labels else 0)\n",
    "    if (no_clusters>=2):\n",
    "        print(\"hi\")\n",
    "    "
   ]
  },
  {
   "cell_type": "code",
   "execution_count": 431,
   "metadata": {
    "scrolled": true
   },
   "outputs": [
    {
     "name": "stdout",
     "output_type": "stream",
     "text": [
      "DBSCAN(algorithm='auto', eps=1439, leaf_size=30, metric='precomputed',\n",
      "    metric_params=None, min_samples=10, n_jobs=None, p=None)\n"
     ]
    }
   ],
   "source": [
    "print(db)"
   ]
  },
  {
   "cell_type": "code",
   "execution_count": 441,
   "metadata": {},
   "outputs": [
    {
     "data": {
      "text/plain": [
       "DBSCAN(algorithm='auto', eps=500, leaf_size=30, metric='precomputed',\n",
       "    metric_params=None, min_samples=10, n_jobs=None, p=None)"
      ]
     },
     "execution_count": 441,
     "metadata": {},
     "output_type": "execute_result"
    }
   ],
   "source": [
    "db = DBSCAN(eps=500, min_samples = 10, metric='precomputed')\n",
    "db.fit(distance_matrix)"
   ]
  },
  {
   "cell_type": "code",
   "execution_count": 442,
   "metadata": {},
   "outputs": [
    {
     "name": "stdout",
     "output_type": "stream",
     "text": [
      "('No of clusters:', 1)\n",
      "('Cluster -1 : ', array([  0,   3,   6,   7,   8,  12,  13,  14,  15,  16,  17,  18,  19,\n",
      "        20,  28,  29,  30,  33,  34,  35,  36,  37,  38,  39,  43,  44,\n",
      "        45,  49,  50,  51,  52,  53,  54,  55,  59,  60,  61,  65,  66,\n",
      "        67,  68,  69,  70,  71,  72,  73,  74,  76,  77,  78,  82,  83,\n",
      "        84,  88,  89,  90,  91,  93,  94,  95,  97, 100, 103, 104, 105]))\n",
      "('Cluster 0 : ', array([  1,   2,   4,   5,   9,  10,  11,  21,  22,  23,  24,  25,  26,\n",
      "        27,  31,  32,  40,  41,  42,  46,  47,  48,  56,  57,  58,  62,\n",
      "        63,  64,  75,  79,  80,  81,  85,  86,  87,  92,  96,  98,  99,\n",
      "       101, 102, 106]))\n",
      "('Cluster 1 : ', array([], dtype=int64))\n",
      "('Cluster 2 : ', array([], dtype=int64))\n"
     ]
    }
   ],
   "source": [
    "labels = db.labels_\n",
    "no_clusters = len(set(labels)) - (1 if -1 in labels else 0)\n",
    "print('No of clusters:', no_clusters)\n",
    "print('Cluster -1 : ', np.nonzero(labels == -1)[0])\n",
    "print('Cluster 0 : ', np.nonzero(labels == 0)[0])\n",
    "print('Cluster 1 : ', np.nonzero(labels == 1)[0])\n",
    "print('Cluster 2 : ', np.nonzero(labels == 2)[0])"
   ]
  },
  {
   "cell_type": "code",
   "execution_count": 357,
   "metadata": {},
   "outputs": [],
   "source": [
    "array1=[  0,   2,   4,   5,  16,  21,  22,  23,  24,  25,  26,  40,  41,\n",
    "        42,  47,  48,  57,  58,  62,  64,  81,  85,  87,  94,  95,  97,\n",
    "        98,  99, 101, 102, 106]"
   ]
  },
  {
   "cell_type": "code",
   "execution_count": 358,
   "metadata": {},
   "outputs": [],
   "source": [
    "array2=[ 1,  9, 10, 11, 31, 32, 46, 56, 63, 79, 80, 86, 92, 96]"
   ]
  },
  {
   "cell_type": "code",
   "execution_count": 359,
   "metadata": {},
   "outputs": [],
   "source": [
    "array3=[  3,   6,   7,   8,  12,  13,  14,  15,  17,  18,  19,  20,  27,\n",
    "        28,  29,  30,  33,  34,  35,  36,  37,  38,  39,  43,  44,  45,\n",
    "        49,  50,  51,  52,  53,  54,  55,  59,  60,  61,  65,  66,  67,\n",
    "        68,  69,  70,  71,  72,  73,  74,  75,  76,  77,  78,  82,  83,\n",
    "        84,  88,  89,  90,  91,  93, 100, 103, 104, 105]"
   ]
  },
  {
   "cell_type": "code",
   "execution_count": 360,
   "metadata": {},
   "outputs": [
    {
     "data": {
      "text/plain": [
       "31"
      ]
     },
     "execution_count": 360,
     "metadata": {},
     "output_type": "execute_result"
    }
   ],
   "source": [
    "len(array1)"
   ]
  },
  {
   "cell_type": "code",
   "execution_count": 361,
   "metadata": {},
   "outputs": [
    {
     "data": {
      "text/plain": [
       "14"
      ]
     },
     "execution_count": 361,
     "metadata": {},
     "output_type": "execute_result"
    }
   ],
   "source": [
    "len(array2)"
   ]
  },
  {
   "cell_type": "code",
   "execution_count": 362,
   "metadata": {},
   "outputs": [
    {
     "data": {
      "text/plain": [
       "62"
      ]
     },
     "execution_count": 362,
     "metadata": {},
     "output_type": "execute_result"
    }
   ],
   "source": [
    "len(array3)"
   ]
  },
  {
   "cell_type": "code",
   "execution_count": 363,
   "metadata": {},
   "outputs": [],
   "source": [
    "cluster1 = []\n",
    "for index in array1:\n",
    "    cluster1.append(m[index])"
   ]
  },
  {
   "cell_type": "code",
   "execution_count": 364,
   "metadata": {},
   "outputs": [
    {
     "data": {
      "text/plain": [
       "<matplotlib.image.AxesImage at 0x111bf8cd0>"
      ]
     },
     "execution_count": 364,
     "metadata": {},
     "output_type": "execute_result"
    },
    {
     "data": {
      "image/png": "[encoded data removed]",
      "text/plain": [
       "<Figure size 432x288 with 1 Axes>"
      ]
     },
     "metadata": {
      "needs_background": "light"
     },
     "output_type": "display_data"
    }
   ],
   "source": [
    "plt.imshow(cluster1, cmap=plt.get_cmap('gray'))"
   ]
  },
  {
   "cell_type": "code",
   "execution_count": 365,
   "metadata": {},
   "outputs": [],
   "source": [
    "cluster2 = []\n",
    "for index in array2:\n",
    "    cluster2.append(m[index])"
   ]
  },
  {
   "cell_type": "code",
   "execution_count": 366,
   "metadata": {},
   "outputs": [
    {
     "data": {
      "text/plain": [
       "<matplotlib.image.AxesImage at 0x11183cd90>"
      ]
     },
     "execution_count": 366,
     "metadata": {},
     "output_type": "execute_result"
    },
    {
     "data": {
      "image/png": "[encoded data removed]",
      "text/plain": [
       "<Figure size 432x288 with 1 Axes>"
      ]
     },
     "metadata": {
      "needs_background": "light"
     },
     "output_type": "display_data"
    }
   ],
   "source": [
    "plt.imshow(cluster2, cmap=plt.get_cmap('gray'))"
   ]
  },
  {
   "cell_type": "code",
   "execution_count": 367,
   "metadata": {},
   "outputs": [],
   "source": [
    "cluster3 = []\n",
    "for index in array3:\n",
    "    cluster3.append(m[index])"
   ]
  },
  {
   "cell_type": "code",
   "execution_count": 368,
   "metadata": {},
   "outputs": [
    {
     "data": {
      "text/plain": [
       "<matplotlib.image.AxesImage at 0x111d7cf90>"
      ]
     },
     "execution_count": 368,
     "metadata": {},
     "output_type": "execute_result"
    },
    {
     "data": {
      "image/png": "[encoded data removed]",
      "text/plain": [
       "<Figure size 432x288 with 1 Axes>"
      ]
     },
     "metadata": {
      "needs_background": "light"
     },
     "output_type": "display_data"
    }
   ],
   "source": [
    "plt.imshow(cluster3, cmap=plt.get_cmap('gray'))"
   ]
  },
  {
   "cell_type": "code",
   "execution_count": 384,
   "metadata": {},
   "outputs": [],
   "source": [
    "import matplotlib\n",
    "colormap = matplotlib.cm.get_cmap('Spectral')\n",
    "rgba = colormap(0.5)\n",
    "norm = matplotlib.colors.Normalize(vmin=0.0, vmax=33.0)"
   ]
  },
  {
   "cell_type": "code",
   "execution_count": 414,
   "metadata": {},
   "outputs": [
    {
     "data": {
      "text/plain": [
       "<matplotlib.image.AxesImage at 0x1124fae50>"
      ]
     },
     "execution_count": 414,
     "metadata": {},
     "output_type": "execute_result"
    },
    {
     "data": {
      "image/png": "[encoded data removed]",
      "text/plain": [
       "<Figure size 432x288 with 1 Axes>"
      ]
     },
     "metadata": {
      "needs_background": "light"
     },
     "output_type": "display_data"
    }
   ],
   "source": [
    "for i in range(0,len(cluster1)):\n",
    "    for j in range(0,len(cluster1[i])):\n",
    "        cluster1[i][j]=float(cluster1[i][j])/33\n",
    "plt.imshow(cluster1, cmap=colormap)"
   ]
  },
  {
   "cell_type": "code",
   "execution_count": 413,
   "metadata": {},
   "outputs": [
    {
     "data": {
      "text/plain": [
       "<matplotlib.image.AxesImage at 0x112f8ac90>"
      ]
     },
     "execution_count": 413,
     "metadata": {},
     "output_type": "execute_result"
    },
    {
     "data": {
      "image/png": "[encoded data removed]",
      "text/plain": [
       "<Figure size 432x288 with 1 Axes>"
      ]
     },
     "metadata": {
      "needs_background": "light"
     },
     "output_type": "display_data"
    }
   ],
   "source": [
    "for i in range(0,len(cluster2)):\n",
    "    for j in range(0,len(cluster2[i])):\n",
    "        cluster2[i][j]=float(cluster2[i][j])/33\n",
    "plt.imshow(cluster2, cmap=colormap, interpolation='hamming')"
   ]
  },
  {
   "cell_type": "code",
   "execution_count": 406,
   "metadata": {},
   "outputs": [
    {
     "data": {
      "text/plain": [
       "<matplotlib.image.AxesImage at 0x112268c10>"
      ]
     },
     "execution_count": 406,
     "metadata": {},
     "output_type": "execute_result"
    },
    {
     "data": {
      "image/png": "[encoded data removed]",
      "text/plain": [
       "<Figure size 432x288 with 1 Axes>"
      ]
     },
     "metadata": {
      "needs_background": "light"
     },
     "output_type": "display_data"
    }
   ],
   "source": [
    "for i in range(0,len(cluster3)):\n",
    "    for j in range(0,len(cluster3[i])):\n",
    "        cluster3[i][j]=float(cluster3[i][j])/33\n",
    "plt.imshow(cluster3, cmap=colormap)"
   ]
  },
  {
   "cell_type": "code",
   "execution_count": 479,
   "metadata": {},
   "outputs": [],
   "source": [
    "from sklearn.cluster import AgglomerativeClustering\n",
    "model = AgglomerativeClustering(affinity='precomputed', n_clusters=3, linkage='complete').fit(distance_matrix)"
   ]
  },
  {
   "cell_type": "code",
   "execution_count": 480,
   "metadata": {
    "scrolled": true
   },
   "outputs": [
    {
     "name": "stdout",
     "output_type": "stream",
     "text": [
      "[2 0 0 0 0 0 0 0 0 0 0 0 0 0 0 0 2 2 0 0 2 0 0 1 0 0 0 0 0 0 0 0 0 0 0 0 0\n",
      " 0 0 0 2 0 0 0 0 0 0 0 2 0 0 0 0 0 2 0 0 0 0 0 0 2 0 0 0 0 0 0 0 0 0 0 0 0\n",
      " 0 0 0 0 0 0 0 0 0 0 0 0 0 0 0 0 0 0 0 2 0 0 0 0 0 0 0 0 0 0 0 0 0]\n"
     ]
    }
   ],
   "source": [
    "print(model.labels_)"
   ]
  },
  {
   "cell_type": "code",
   "execution_count": 459,
   "metadata": {
    "scrolled": true
   },
   "outputs": [
    {
     "data": {
      "text/plain": [
       "107"
      ]
     },
     "execution_count": 459,
     "metadata": {},
     "output_type": "execute_result"
    }
   ],
   "source": [
    "len(model.labels_)"
   ]
  },
  {
   "cell_type": "code",
   "execution_count": 460,
   "metadata": {},
   "outputs": [
    {
     "name": "stdout",
     "output_type": "stream",
     "text": [
      "('No of clusters:', 3)\n",
      "('Cluster 0 : ', array([  1,   2,   4,   5,   9,  10,  11,  13,  18,  21,  22,  23,  24,\n",
      "        25,  26,  27,  31,  32,  33,  34,  36,  40,  41,  42,  46,  47,\n",
      "        48,  55,  56,  57,  58,  62,  63,  64,  70,  71,  72,  74,  79,\n",
      "        80,  81,  85,  86,  87,  91,  92,  94,  96,  98,  99, 101, 102,\n",
      "       106]))\n",
      "('Cluster 1 : ', array([  0,  16,  17,  20,  61,  69,  93,  97, 100]))\n",
      "('Cluster 2 : ', array([  3,   6,   7,   8,  12,  14,  15,  19,  28,  29,  30,  35,  37,\n",
      "        38,  39,  43,  44,  45,  49,  50,  51,  52,  53,  54,  59,  60,\n",
      "        65,  66,  67,  68,  73,  75,  76,  77,  78,  82,  83,  84,  88,\n",
      "        89,  90,  95, 103, 104, 105]))\n"
     ]
    }
   ],
   "source": [
    "labels = model.labels_\n",
    "no_clusters = len(set(labels)) - (1 if -1 in labels else 0)\n",
    "print('No of clusters:', no_clusters)\n",
    "print('Cluster 0 : ', np.nonzero(labels == 0)[0])\n",
    "print('Cluster 1 : ', np.nonzero(labels == 1)[0])\n",
    "print('Cluster 2 : ', np.nonzero(labels == 2)[0])"
   ]
  },
  {
   "cell_type": "code",
   "execution_count": 485,
   "metadata": {},
   "outputs": [],
   "source": [
    "from sklearn.cluster import AgglomerativeClustering\n",
    "model = AgglomerativeClustering(affinity='precomputed', n_clusters=5, linkage='complete').fit(distance_matrix)"
   ]
  },
  {
   "cell_type": "code",
   "execution_count": 487,
   "metadata": {},
   "outputs": [
    {
     "name": "stdout",
     "output_type": "stream",
     "text": [
      "('No of clusters:', 5)\n",
      "('Cluster 0 : ', array([ 0, 16, 17, 20, 40, 48, 54, 61, 93]))\n",
      "('Cluster 1 : ', array([18, 26, 33, 36, 70, 71, 72, 74, 81, 91, 94]))\n",
      "('Cluster 2 : ', array([  2,   4,   6,   7,   8,  12,  13,  14,  15,  19,  22,  24,  27,\n",
      "        28,  29,  34,  37,  38,  39,  41,  43,  44,  45,  49,  50,  52,\n",
      "        53,  55,  57,  58,  60,  62,  64,  65,  66,  68,  69,  73,  75,\n",
      "        76,  77,  78,  82,  83,  85,  89,  95,  98,  99, 101, 102, 103,\n",
      "       104, 105, 106]))\n",
      "('Cluster 3 : ', array([23]))\n",
      "('Cluster 4 : ', array([  1,   3,   5,   9,  10,  11,  21,  25,  30,  31,  32,  35,  42,\n",
      "        46,  47,  51,  56,  59,  63,  67,  79,  80,  84,  86,  87,  88,\n",
      "        90,  92,  96,  97, 100]))\n"
     ]
    }
   ],
   "source": [
    "labels = model.labels_\n",
    "no_clusters = len(set(labels)) - (1 if -1 in labels else 0)\n",
    "print('No of clusters:', no_clusters)\n",
    "print('Cluster 0 : ', np.nonzero(labels == 0)[0])\n",
    "print('Cluster 1 : ', np.nonzero(labels == 1)[0])\n",
    "print('Cluster 2 : ', np.nonzero(labels == 2)[0])\n",
    "print('Cluster 3 : ', np.nonzero(labels == 3)[0])\n",
    "print('Cluster 4 : ', np.nonzero(labels == 4)[0])"
   ]
  },
  {
   "cell_type": "code",
   "execution_count": 463,
   "metadata": {},
   "outputs": [],
   "source": [
    "array1 = [  0,  16,  17,  20,  61,  69,  93,  97, 100]\n",
    "array2 = [  1,   2,   4,   5,   9,  10,  11,  13,  21,  22,  23,  24,  25,\n",
    "        26,  27,  31,  32,  34,  40,  41,  42,  46,  47,  48,  55,  56,\n",
    "        57,  58,  62,  63,  64,  70,  79,  80,  81,  85,  86,  87,  92,\n",
    "        96,  98,  99, 101, 102, 106]\n",
    "array3 = [  3,   6,   7,   8,  12,  14,  15,  19,  28,  29,  30,  35,  37,\n",
    "        38,  39,  43,  44,  45,  49,  50,  51,  52,  53,  54,  59,  60,\n",
    "        65,  66,  67,  68,  73,  75,  76,  77,  78,  82,  83,  84,  88,\n",
    "        89,  90,  95, 103, 104, 105]\n",
    "array4 = [18, 33, 36, 71, 72, 74, 91, 94]"
   ]
  },
  {
   "cell_type": "code",
   "execution_count": 468,
   "metadata": {},
   "outputs": [
    {
     "data": {
      "text/plain": [
       "<matplotlib.image.AxesImage at 0x1135ce690>"
      ]
     },
     "execution_count": 468,
     "metadata": {},
     "output_type": "execute_result"
    },
    {
     "data": {
      "image/png": "[encoded data removed]",
      "text/plain": [
       "<Figure size 432x288 with 1 Axes>"
      ]
     },
     "metadata": {
      "needs_background": "light"
     },
     "output_type": "display_data"
    }
   ],
   "source": [
    "cluster1 = []\n",
    "for index in array1:\n",
    "    cluster1.append(m[index])\n",
    "for i in range(0,len(cluster1)):\n",
    "    for j in range(0,len(cluster1[i])):\n",
    "        cluster1[i][j]=float(cluster1[i][j])/33\n",
    "plt.imshow(cluster1, cmap=colormap)"
   ]
  },
  {
   "cell_type": "code",
   "execution_count": 469,
   "metadata": {},
   "outputs": [
    {
     "data": {
      "text/plain": [
       "<matplotlib.image.AxesImage at 0x11492c9d0>"
      ]
     },
     "execution_count": 469,
     "metadata": {},
     "output_type": "execute_result"
    },
    {
     "data": {
      "image/png": "[encoded data removed]",
      "text/plain": [
       "<Figure size 432x288 with 1 Axes>"
      ]
     },
     "metadata": {
      "needs_background": "light"
     },
     "output_type": "display_data"
    }
   ],
   "source": [
    "cluster2 = []\n",
    "for index in array2:\n",
    "    cluster2.append(m[index])\n",
    "for i in range(0,len(cluster2)):\n",
    "    for j in range(0,len(cluster2[i])):\n",
    "        cluster2[i][j]=float(cluster2[i][j])/33\n",
    "plt.imshow(cluster2, cmap=colormap)"
   ]
  },
  {
   "cell_type": "code",
   "execution_count": 470,
   "metadata": {},
   "outputs": [
    {
     "data": {
      "text/plain": [
       "<matplotlib.image.AxesImage at 0x114a0dc50>"
      ]
     },
     "execution_count": 470,
     "metadata": {},
     "output_type": "execute_result"
    },
    {
     "data": {
      "image/png": "[encoded data removed]",
      "text/plain": [
       "<Figure size 432x288 with 1 Axes>"
      ]
     },
     "metadata": {
      "needs_background": "light"
     },
     "output_type": "display_data"
    }
   ],
   "source": [
    "cluster3 = []\n",
    "for index in array3:\n",
    "    cluster3.append(m[index])\n",
    "for i in range(0,len(cluster3)):\n",
    "    for j in range(0,len(cluster3[i])):\n",
    "        cluster3[i][j]=float(cluster3[i][j])/33\n",
    "plt.imshow(cluster3, cmap=colormap)"
   ]
  },
  {
   "cell_type": "code",
   "execution_count": 471,
   "metadata": {},
   "outputs": [
    {
     "data": {
      "text/plain": [
       "<matplotlib.image.AxesImage at 0x114979ed0>"
      ]
     },
     "execution_count": 471,
     "metadata": {},
     "output_type": "execute_result"
    },
    {
     "data": {
      "image/png": "[encoded data removed]",
      "text/plain": [
       "<Figure size 432x288 with 1 Axes>"
      ]
     },
     "metadata": {
      "needs_background": "light"
     },
     "output_type": "display_data"
    }
   ],
   "source": [
    "cluster4 = []\n",
    "for index in array4:\n",
    "    cluster4.append(m[index])\n",
    "for i in range(0,len(cluster4)):\n",
    "    for j in range(0,len(cluster4[i])):\n",
    "        cluster4[i][j]=float(cluster4[i][j])/33\n",
    "plt.imshow(cluster4, cmap=colormap)"
   ]
  },
  {
   "cell_type": "code",
   "execution_count": null,
   "metadata": {},
   "outputs": [],
   "source": []
  }
 ],
 "metadata": {
  "kernelspec": {
   "display_name": "Python 2",
   "language": "python",
   "name": "python2"
  },
  "language_info": {
   "codemirror_mode": {
    "name": "ipython",
    "version": 2
   },
   "file_extension": ".py",
   "mimetype": "text/x-python",
   "name": "python",
   "nbconvert_exporter": "python",
   "pygments_lexer": "ipython2",
   "version": "2.7.14"
  }
 },
 "nbformat": 4,
 "nbformat_minor": 2
}
